{
 "cells": [
  {
   "cell_type": "code",
   "execution_count": 91,
   "metadata": {},
   "outputs": [],
   "source": [
    "import torch as tc\n",
    "import torch.nn as nn\n",
    "import torch.nn.functional as F\n",
    "import matplotlib.pyplot as plt\n",
    "import pandas as pd\n",
    "import numpy as np"
   ]
  },
  {
   "cell_type": "code",
   "execution_count": 92,
   "metadata": {},
   "outputs": [],
   "source": [
    "class Generator(nn.Module):\n",
    "    def __init__(self):\n",
    "        super(Generator, self).__init__()\n",
    "        self.deconv2 = nn.ConvTranspose2d(100, 512, 4, 1, 0)\n",
    "        self.deconv2_bn = nn.BatchNorm2d(512)\n",
    "        self.deconv3 = nn.ConvTranspose2d(512, 256, 4, 2, 1)\n",
    "        self.deconv3_bn = nn.BatchNorm2d(256)\n",
    "        self.deconv4 = nn.ConvTranspose2d(256, 128, 4, 2, 1)\n",
    "        self.deconv4_bn = nn.BatchNorm2d(128)\n",
    "        self.deconv5 = nn.ConvTranspose2d(128, 1, 4, 2, 1)\n",
    "   \n",
    "    def forward(self, input):\n",
    "        x = F.relu(self.deconv2_bn(self.deconv2(input)))\n",
    "        x = F.relu(self.deconv3_bn(self.deconv3(x)))\n",
    "        x = F.relu(self.deconv4_bn(self.deconv4(x)))\n",
    "        x = F.tanh(self.deconv5(x))\n",
    "        return x"
   ]
  },
  {
   "cell_type": "code",
   "execution_count": 93,
   "metadata": {},
   "outputs": [],
   "source": [
    "class Discriminator(nn.Module):\n",
    "    def __init__(self):\n",
    "        super(Discriminator, self).__init__()\n",
    "        self.conv1 = nn.Conv2d(1, 128, 4, 2, 1)\n",
    "        self.conv2 = nn.Conv2d(128, 256, 4, 2, 1)\n",
    "        self.conv2_bn = nn.BatchNorm2d(256)\n",
    "        self.conv3 = nn.Conv2d(256, 512, 4, 2, 1)\n",
    "        self.conv3_bn = nn.BatchNorm2d(512)\n",
    "        self.conv5 = nn.Conv2d(512, 1, 4, 1, 0)\n",
    "    def forward(self, input):\n",
    "        x = F.leaky_relu(self.conv1(input), 0.2)\n",
    "        x = F.leaky_relu(self.conv2_bn(self.conv2(x)), 0.2)\n",
    "        x = F.leaky_relu(self.conv3_bn(self.conv3(x)), 0.2)\n",
    "        x = F.sigmoid(self.conv5(x))\n",
    "        return x\n"
   ]
  },
  {
   "cell_type": "code",
   "execution_count": 94,
   "metadata": {},
   "outputs": [
    {
     "data": {
      "text/plain": [
       "IncompatibleKeys(missing_keys=[], unexpected_keys=[])"
      ]
     },
     "execution_count": 94,
     "metadata": {},
     "output_type": "execute_result"
    }
   ],
   "source": [
    "z_dim = 100\n",
    "G = Generator()\n",
    "D = Discriminator()\n",
    "D.load_state_dict(tc.load('D.pth',map_location = 'cpu'))\n",
    "G.load_state_dict(tc.load('G.pth',map_location = 'cpu'))"
   ]
  },
  {
   "cell_type": "code",
   "execution_count": 178,
   "metadata": {},
   "outputs": [
    {
     "data": {
      "image/png": "[encoded data removed]",
      "text/plain": [
       "<Figure size 432x288 with 1 Axes>"
      ]
     },
     "metadata": {
      "needs_background": "light"
     },
     "output_type": "display_data"
    }
   ],
   "source": [
    "z = tc.randn(1, z_dim,1,1)\n",
    "plt.imshow(G(z)[0,0].detach(),cmap = 'gray')\n",
    "plt.savefig('a.png')"
   ]
  },
  {
   "cell_type": "code",
   "execution_count": null,
   "metadata": {},
   "outputs": [],
   "source": []
  },
  {
   "cell_type": "code",
   "execution_count": null,
   "metadata": {},
   "outputs": [],
   "source": []
  }
 ],
 "metadata": {
  "kernelspec": {
   "display_name": "Python 3",
   "language": "python",
   "name": "python3"
  },
  "language_info": {
   "codemirror_mode": {
    "name": "ipython",
    "version": 3
   },
   "file_extension": ".py",
   "mimetype": "text/x-python",
   "name": "python",
   "nbconvert_exporter": "python",
   "pygments_lexer": "ipython3",
   "version": "3.7.3"
  }
 },
 "nbformat": 4,
 "nbformat_minor": 2
}
