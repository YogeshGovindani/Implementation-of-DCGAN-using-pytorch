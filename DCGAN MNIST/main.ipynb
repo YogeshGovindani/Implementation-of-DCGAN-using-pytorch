{
 "cells": [
  {
   "cell_type": "code",
   "execution_count": 0,
   "metadata": {
    "colab": {},
    "colab_type": "code",
    "id": "K8DxDW97IZto"
   },
   "outputs": [],
   "source": [
    "import torch as tc\n",
    "import torch.nn as nn\n",
    "import torch.nn.functional as F\n",
    "import torch.optim as optim\n",
    "import torchvision \n",
    "import torchvision.transforms as transforms \n",
    "import matplotlib.pyplot as plt\n",
    "import time\n",
    "import pandas as pd\n",
    "import numpy as np"
   ]
  },
  {
   "cell_type": "code",
   "execution_count": 486,
   "metadata": {
    "colab": {
     "base_uri": "https://localhost:8080/",
     "height": 34
    },
    "colab_type": "code",
    "id": "rInEPWRJIglC",
    "outputId": "8c857184-2045-430f-991e-e27ed8f9a26c"
   },
   "outputs": [
    {
     "data": {
      "text/plain": [
       "device(type='cuda', index=0)"
      ]
     },
     "execution_count": 486,
     "metadata": {
      "tags": []
     },
     "output_type": "execute_result"
    }
   ],
   "source": [
    "device = tc.device(\"cuda:0\" if (tc.cuda.is_available()) else \"cpu\")\n",
    "device"
   ]
  },
  {
   "cell_type": "code",
   "execution_count": 0,
   "metadata": {
    "colab": {},
    "colab_type": "code",
    "id": "s8wA3tmYImFt"
   },
   "outputs": [],
   "source": [
    "batch_size = 100\n",
    "transform = transforms.Compose([\n",
    "                transforms.ToTensor()])\n",
    "mnist = torchvision.datasets.MNIST(root='./data/',\n",
    "                                   train=True,\n",
    "                                   transform=transform,\n",
    "                                   download=True)\n",
    "\n",
    "# Data loader\n",
    "data_loader = tc.utils.data.DataLoader(dataset=mnist,\n",
    "                                          batch_size=batch_size, \n",
    "                                          shuffle=True)"
   ]
  },
  {
   "cell_type": "code",
   "execution_count": 0,
   "metadata": {
    "colab": {},
    "colab_type": "code",
    "id": "BfScoZ4iJyQf"
   },
   "outputs": [],
   "source": [
    "class Generator(nn.Module):\n",
    "    def __init__(self):\n",
    "        super(Generator, self).__init__()\n",
    "        self.deconv2 = nn.ConvTranspose2d(100, 512, 4, 1, 0)\n",
    "        self.deconv2_bn = nn.BatchNorm2d(512)\n",
    "        self.deconv3 = nn.ConvTranspose2d(512, 256, 4, 2, 1)\n",
    "        self.deconv3_bn = nn.BatchNorm2d(256)\n",
    "        self.deconv4 = nn.ConvTranspose2d(256, 128, 4, 2, 1)\n",
    "        self.deconv4_bn = nn.BatchNorm2d(128)\n",
    "        self.deconv5 = nn.ConvTranspose2d(128, 1, 4, 2, 1)\n",
    "   \n",
    "    def forward(self, input):\n",
    "        x = F.relu(self.deconv2_bn(self.deconv2(input)))\n",
    "        x = F.relu(self.deconv3_bn(self.deconv3(x)))\n",
    "        x = F.relu(self.deconv4_bn(self.deconv4(x)))\n",
    "        x = F.tanh(self.deconv5(x))\n",
    "        return x"
   ]
  },
  {
   "cell_type": "code",
   "execution_count": 0,
   "metadata": {
    "colab": {},
    "colab_type": "code",
    "id": "JE9HmqflJ75o"
   },
   "outputs": [],
   "source": [
    "class Discriminator(nn.Module):\n",
    "    def __init__(self):\n",
    "        super(Discriminator, self).__init__()\n",
    "        self.conv1 = nn.Conv2d(1, 128, 4, 2, 1)\n",
    "        self.conv2 = nn.Conv2d(128, 256, 4, 2, 1)\n",
    "        self.conv2_bn = nn.BatchNorm2d(256)\n",
    "        self.conv3 = nn.Conv2d(256, 512, 4, 2, 1)\n",
    "        self.conv3_bn = nn.BatchNorm2d(512)\n",
    "        self.conv5 = nn.Conv2d(512, 1, 4, 1, 0)\n",
    "    def forward(self, input):\n",
    "        x = F.leaky_relu(self.conv1(input), 0.2)\n",
    "        x = F.leaky_relu(self.conv2_bn(self.conv2(x)), 0.2)\n",
    "        x = F.leaky_relu(self.conv3_bn(self.conv3(x)), 0.2)\n",
    "        x = F.sigmoid(self.conv5(x))\n",
    "        return x"
   ]
  },
  {
   "cell_type": "code",
   "execution_count": 0,
   "metadata": {
    "colab": {},
    "colab_type": "code",
    "id": "cGTahcprKT5h"
   },
   "outputs": [],
   "source": [
    "z_dim = 100\n",
    "G = Generator().to(device)\n",
    "D = Discriminator().to(device)"
   ]
  },
  {
   "cell_type": "code",
   "execution_count": 0,
   "metadata": {
    "colab": {},
    "colab_type": "code",
    "id": "lhr_m6jsKlBh"
   },
   "outputs": [],
   "source": [
    "# loss\n",
    "criterion = nn.BCELoss() \n",
    "def cost_G(output_G):\n",
    "    return tc.mean(-tc.log(D(output_G)))\n",
    "\n",
    "# optimizer\n",
    "lr = 0.0002 \n",
    "optimizer_G = optim.Adam(G.parameters(), lr = lr)\n",
    "optimizer_D = optim.Adam(D.parameters(), lr = lr)\n",
    "\n",
    "costs_G = []\n",
    "costs_D = []"
   ]
  },
  {
   "cell_type": "code",
   "execution_count": 0,
   "metadata": {
    "colab": {},
    "colab_type": "code",
    "id": "I23eE9gyKtR-"
   },
   "outputs": [],
   "source": [
    "for epoch in range(50):\n",
    "  tic = time.time()\n",
    "  for i,data in enumerate(data_loader):\n",
    "    # Training the Discriminator\n",
    "    \n",
    "    D.zero_grad()\n",
    "    # Getting images from the training set\n",
    "    x,_ = data\n",
    "    # The images from the dataset are 28X28. We convert them to 32X32 images by padding.\n",
    "    # Also, the pixel intensities range from 0 to 1. We make them range from -1 to 1\n",
    "    x_real = tc.ones(batch_size,1,32,32).to(device)*(-1)\n",
    "    x_real[:,:,2:30,2:30] = x*2 - 1\n",
    "    # Calculating Discriminator output for images from the dataset. The label for images from the dataset is 1\n",
    "    output_D = D(x_real)\n",
    "    labels = tc.ones(batch_size).to(device)\n",
    "    # Calculating Discriminator loss for images from the dataset\n",
    "    real_loss = criterion(output_D[:,0,0,0],labels)\n",
    "    \n",
    "    # Images Generated by Generator\n",
    "    z = tc.randn(batch_sizee,z_dim,1,1).to(device)\n",
    "    x_fake = G(z)\n",
    "    # Calculating Discriminator output for images generated by the Genearator. The label for images generated by the Generator is 0\n",
    "    output_D = D(x_fake)\n",
    "    labels = tc.zeros(batch_size).to(device)\n",
    "    # Calculating Discriminator loss for images generated by the Genearator\n",
    "    fake_loss = criterion(output_D,labels)\n",
    "    \n",
    "    # Calculating the total Discrimantor loss\n",
    "    loss_D = real_loss + fake_loss\n",
    "    costs_D.append(loss_D)\n",
    "    print(i,'\\t',loss_D.item())\n",
    "    loss_D.backward()\n",
    "    optimizer_D.step()\n",
    "    \n",
    "    # Training the Generator\n",
    "   \n",
    "    G.zero_grad()\n",
    "    # Images Generated by Generator\n",
    "    z = tc.randn(batch_size, z_dim,1,1).to(device)\n",
    "    output_G = G(z)\n",
    "    # Calculating Generator loss\n",
    "    loss_G = cost_G(output_G)\n",
    "    costs_G.append(loss_G)\n",
    "    loss_G.backward()\n",
    "    optimizer_G.step()\n",
    "  toc = time.time()\n",
    "  print(toc - tic)"
   ]
  },
  {
   "cell_type": "code",
   "execution_count": 467,
   "metadata": {
    "colab": {
     "base_uri": "https://localhost:8080/",
     "height": 320
    },
    "colab_type": "code",
    "id": "RZh5sjWiMmlc",
    "outputId": "8e9d1528-b470-4f33-8d7e-723ab4a4ee4e"
   },
   "outputs": [
    {
     "name": "stderr",
     "output_type": "stream",
     "text": [
      "/usr/local/lib/python3.6/dist-packages/torch/nn/functional.py:1374: UserWarning: nn.functional.tanh is deprecated. Use torch.tanh instead.\n",
      "  warnings.warn(\"nn.functional.tanh is deprecated. Use torch.tanh instead.\")\n"
     ]
    },
    {
     "data": {
      "text/plain": [
       "<matplotlib.image.AxesImage at 0x7f6fb6f37f98>"
      ]
     },
     "execution_count": 467,
     "metadata": {
      "tags": []
     },
     "output_type": "execute_result"
    },
    {
     "data": {
      "image/png": "[encoded data removed]",
      "text/plain": [
       "<Figure size 432x288 with 1 Axes>"
      ]
     },
     "metadata": {
      "tags": []
     },
     "output_type": "display_data"
    }
   ],
   "source": [
    "z = tc.randn(batch_size,z_dim,1,1).to(device)\n",
    "plt.imshow(G(z)[0,0].detach().cpu(),cmap = 'gray')"
   ]
  },
  {
   "cell_type": "code",
   "execution_count": 482,
   "metadata": {
    "colab": {
     "base_uri": "https://localhost:8080/",
     "height": 295
    },
    "colab_type": "code",
    "id": "03Sq996rP5v3",
    "outputId": "63115c83-c71a-4b1b-bbc0-f1fa239d2d06"
   },
   "outputs": [
    {
     "data": {
      "image/png": "[encoded data removed]",
      "text/plain": [
       "<Figure size 432x288 with 1 Axes>"
      ]
     },
     "metadata": {
      "tags": []
     },
     "output_type": "display_data"
    }
   ],
   "source": [
    "plt.plot(costs_G,'b',label = 'Generator Loss')\n",
    "plt.plot(costs_D,'r',label = 'Discriminator Loss')\n",
    "plt.xlabel('Number of Iterations')\n",
    "plt.ylabel('Loss')\n",
    "plt.title('Generator and Discriminator Loss')\n",
    "plt.legend()\n",
    "plt.savefig('plot1.png')"
   ]
  },
  {
   "cell_type": "code",
   "execution_count": 0,
   "metadata": {
    "colab": {},
    "colab_type": "code",
    "id": "LFCnY-61SMGq"
   },
   "outputs": [],
   "source": [
    "tc.save(G.state_dict(), 'G.pth')\n",
    "tc.save(D.state_dict(), 'D.pth')\n",
    "from google.colab import files\n",
    "files.download('G.pth') \n",
    "files.download('D.pth')"
   ]
  }
 ],
 "metadata": {
  "accelerator": "GPU",
  "colab": {
   "name": "DCGAN.ipynb",
   "provenance": [],
   "version": "0.3.2"
  },
  "kernelspec": {
   "display_name": "Python 3",
   "language": "python",
   "name": "python3"
  },
  "language_info": {
   "codemirror_mode": {
    "name": "ipython",
    "version": 3
   },
   "file_extension": ".py",
   "mimetype": "text/x-python",
   "name": "python",
   "nbconvert_exporter": "python",
   "pygments_lexer": "ipython3",
   "version": "3.7.3"
  }
 },
 "nbformat": 4,
 "nbformat_minor": 1
}
